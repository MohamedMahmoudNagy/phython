{
 "cells": [
  {
   "cell_type": "code",
   "execution_count": 29,
   "id": "f4bef82d",
   "metadata": {},
   "outputs": [
    {
     "name": "stdout",
     "output_type": "stream",
     "text": [
      "Enter Your Score:1.1\n",
      "Out of Range\n"
     ]
    }
   ],
   "source": [
    "a = input('Enter Your Score:')\n",
    "b = float(a)\n",
    "if b < 0.6:\n",
    "    print('F')\n",
    "elif b <= 0.69:\n",
    "    print('D')\n",
    "elif b <= 0.79:\n",
    "    print('C')\n",
    "elif b <= 0.89:\n",
    "    print('B')\n",
    "elif b <= 1.0:\n",
    "    print('A')\n",
    "else:\n",
    "    print('Out of Range')"
   ]
  },
  {
   "cell_type": "code",
   "execution_count": null,
   "id": "121df82c",
   "metadata": {},
   "outputs": [],
   "source": []
  },
  {
   "cell_type": "code",
   "execution_count": null,
   "id": "c28c2c8e",
   "metadata": {},
   "outputs": [],
   "source": []
  }
 ],
 "metadata": {
  "kernelspec": {
   "display_name": "Python 3 (ipykernel)",
   "language": "python",
   "name": "python3"
  },
  "language_info": {
   "codemirror_mode": {
    "name": "ipython",
    "version": 3
   },
   "file_extension": ".py",
   "mimetype": "text/x-python",
   "name": "python",
   "nbconvert_exporter": "python",
   "pygments_lexer": "ipython3",
   "version": "3.9.12"
  }
 },
 "nbformat": 4,
 "nbformat_minor": 5
}
