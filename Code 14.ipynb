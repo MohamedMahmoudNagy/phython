{
 "cells": [
  {
   "cell_type": "code",
   "execution_count": 15,
   "id": "294868e1",
   "metadata": {},
   "outputs": [
    {
     "name": "stdout",
     "output_type": "stream",
     "text": [
      "Enter Hours:35\n",
      "Enter rate per our:2.75\n",
      "96.25\n"
     ]
    }
   ],
   "source": [
    "# This first line is provided for you\n",
    "\n",
    "x = input(\"Enter Hours:\")\n",
    "y = input(\"Enter rate per our:\")\n",
    "a = float(x)\n",
    "b = float(y)\n",
    "print (a*b)"
   ]
  },
  {
   "cell_type": "code",
   "execution_count": null,
   "id": "cf905526",
   "metadata": {},
   "outputs": [],
   "source": []
  }
 ],
 "metadata": {
  "kernelspec": {
   "display_name": "Python 3 (ipykernel)",
   "language": "python",
   "name": "python3"
  },
  "language_info": {
   "codemirror_mode": {
    "name": "ipython",
    "version": 3
   },
   "file_extension": ".py",
   "mimetype": "text/x-python",
   "name": "python",
   "nbconvert_exporter": "python",
   "pygments_lexer": "ipython3",
   "version": "3.9.12"
  }
 },
 "nbformat": 4,
 "nbformat_minor": 5
}
