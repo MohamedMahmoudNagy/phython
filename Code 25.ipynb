{
 "cells": [
  {
   "cell_type": "code",
   "execution_count": 39,
   "id": "bf46743e",
   "metadata": {},
   "outputs": [
    {
     "name": "stdout",
     "output_type": "stream",
     "text": [
      "Enter Working Hours:45\n",
      "498.75\n"
     ]
    }
   ],
   "source": [
    "x = input('Enter Working Hours:')\n",
    "y = int(x)\n",
    "\n",
    "if y <= 40: \n",
    "    print(y*float(1.5))\n",
    "elif y > 40:\n",
    "    print(y*float(11.0833333333333333))"
   ]
  },
  {
   "cell_type": "code",
   "execution_count": null,
   "id": "04931e52",
   "metadata": {},
   "outputs": [],
   "source": []
  },
  {
   "cell_type": "code",
   "execution_count": null,
   "id": "71d069bd",
   "metadata": {},
   "outputs": [],
   "source": []
  }
 ],
 "metadata": {
  "kernelspec": {
   "display_name": "Python 3 (ipykernel)",
   "language": "python",
   "name": "python3"
  },
  "language_info": {
   "codemirror_mode": {
    "name": "ipython",
    "version": 3
   },
   "file_extension": ".py",
   "mimetype": "text/x-python",
   "name": "python",
   "nbconvert_exporter": "python",
   "pygments_lexer": "ipython3",
   "version": "3.9.12"
  }
 },
 "nbformat": 4,
 "nbformat_minor": 5
}
