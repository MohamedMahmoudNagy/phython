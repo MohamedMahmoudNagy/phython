{
 "cells": [
  {
   "cell_type": "code",
   "execution_count": 2,
   "id": "4a64b96a",
   "metadata": {},
   "outputs": [
    {
     "ename": "SyntaxError",
     "evalue": "invalid syntax (2241752893.py, line 12)",
     "output_type": "error",
     "traceback": [
      "\u001b[0;36m  Input \u001b[0;32mIn [2]\u001b[0;36m\u001b[0m\n\u001b[0;31m    if big count is None or count>big count\u001b[0m\n\u001b[0m           ^\u001b[0m\n\u001b[0;31mSyntaxError\u001b[0m\u001b[0;31m:\u001b[0m invalid syntax\n"
     ]
    }
   ],
   "source": [
    "name = input('Enter file:')\n",
    "handle = open(name)\n",
    "counts = dict()\n",
    "for lines in handle:\n",
    "    words = line.split()\n",
    "    for words in words:\n",
    "        count[words]= counts.get(word,0) + 1\n",
    "        \n",
    "bigcount = None\n",
    "bigword = None\n",
    "for word, count in counts.item():\n",
    "    if big count is None or count>big count\n",
    "    bigword = word\n",
    "    bigcount = count\n",
    "    print(bigword, bigcount)"
   ]
  },
  {
   "cell_type": "code",
   "execution_count": null,
   "id": "0761e92b",
   "metadata": {},
   "outputs": [],
   "source": []
  }
 ],
 "metadata": {
  "kernelspec": {
   "display_name": "Python 3 (ipykernel)",
   "language": "python",
   "name": "python3"
  },
  "language_info": {
   "codemirror_mode": {
    "name": "ipython",
    "version": 3
   },
   "file_extension": ".py",
   "mimetype": "text/x-python",
   "name": "python",
   "nbconvert_exporter": "python",
   "pygments_lexer": "ipython3",
   "version": "3.9.12"
  }
 },
 "nbformat": 4,
 "nbformat_minor": 5
}
