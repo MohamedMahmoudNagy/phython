{
 "cells": [
  {
   "cell_type": "code",
   "execution_count": 5,
   "id": "c3557cad",
   "metadata": {},
   "outputs": [
    {
     "name": "stdout",
     "output_type": "stream",
     "text": [
      "Done with 2\n",
      "0\n",
      "Done with i 0\n",
      "1\n",
      "Done with i 1\n",
      "2\n",
      "Done with i 2\n",
      "3\n",
      "Bigger than 2\n",
      "Done with i 3\n",
      "4\n",
      "Bigger than 2\n",
      "Done with i 4\n",
      "All Done\n"
     ]
    }
   ],
   "source": [
    "x = 5\n",
    "if x > 5:\n",
    "    print('Bigger than 2')\n",
    "    print('still bigger')\n",
    "print('Done with 2')\n",
    "for i in range(5):\n",
    "    print(i)\n",
    "    if i > 2:\n",
    "        print('Bigger than 2')\n",
    "    print('Done with i',i)\n",
    "print('All Done')"
   ]
  },
  {
   "cell_type": "code",
   "execution_count": null,
   "id": "6c0a8ee8",
   "metadata": {},
   "outputs": [],
   "source": []
  }
 ],
 "metadata": {
  "kernelspec": {
   "display_name": "Python 3 (ipykernel)",
   "language": "python",
   "name": "python3"
  },
  "language_info": {
   "codemirror_mode": {
    "name": "ipython",
    "version": 3
   },
   "file_extension": ".py",
   "mimetype": "text/x-python",
   "name": "python",
   "nbconvert_exporter": "python",
   "pygments_lexer": "ipython3",
   "version": "3.9.12"
  }
 },
 "nbformat": 4,
 "nbformat_minor": 5
}
